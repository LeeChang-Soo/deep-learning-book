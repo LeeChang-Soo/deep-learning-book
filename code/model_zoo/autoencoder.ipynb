{
 "cells": [
  {
   "cell_type": "markdown",
   "metadata": {
    "collapsed": true
   },
   "source": [
    "*Accompanying code examples of the book \"Introduction to Artificial Neural Networks and Deep Learning: A Practical Guide with Applications in Python\" by [Sebastian Raschka](https://sebastianraschka.com). All code examples are released under the [MIT license](https://github.com/rasbt/deep-learning-book/blob/master/LICENSE). If you find this content useful, please consider supporting the work by buying a [copy of the book](https://leanpub.com/ann-and-deeplearning).*\n",
    "  \n",
    "Other code examples and content are available on [GitHub](https://github.com/rasbt/deep-learning-book). The PDF and ebook versions of the book are available through [Leanpub](https://leanpub.com/ann-and-deeplearning)."
   ]
  },
  {
   "cell_type": "code",
   "execution_count": 1,
   "metadata": {},
   "outputs": [
    {
     "name": "stdout",
     "output_type": "stream",
     "text": [
      "Sebastian Raschka \n",
      "\n",
      "CPython 3.6.0\n",
      "IPython 6.0.0\n",
      "\n",
      "tensorflow 1.1.0\n"
     ]
    }
   ],
   "source": [
    "%load_ext watermark\n",
    "%watermark -a 'Sebastian Raschka' -v -p tensorflow"
   ]
  },
  {
   "cell_type": "markdown",
   "metadata": {},
   "source": [
    "# Model Zoo -- Autoencoder"
   ]
  },
  {
   "cell_type": "markdown",
   "metadata": {},
   "source": [
    "A simple, single-layer autoencoder that compresses 768-pixel MNIST images into 16-pixel vectors."
   ]
  },
  {
   "cell_type": "code",
   "execution_count": 2,
   "metadata": {},
   "outputs": [
    {
     "name": "stdout",
     "output_type": "stream",
     "text": [
      "Extracting ./train-images-idx3-ubyte.gz\n",
      "Extracting ./train-labels-idx1-ubyte.gz\n",
      "Extracting ./t10k-images-idx3-ubyte.gz\n",
      "Extracting ./t10k-labels-idx1-ubyte.gz\n",
      "Minibatch: 001 | Cost:    0.693\n",
      "Minibatch: 201 | Cost:    0.229\n",
      "Minibatch: 401 | Cost:    0.197\n",
      "Epoch:     001 | AvgCost: 0.254\n",
      "Minibatch: 001 | Cost:    0.186\n",
      "Minibatch: 201 | Cost:    0.167\n",
      "Minibatch: 401 | Cost:    0.165\n",
      "Epoch:     002 | AvgCost: 0.171\n",
      "Minibatch: 001 | Cost:    0.164\n",
      "Minibatch: 201 | Cost:    0.151\n",
      "Minibatch: 401 | Cost:    0.154\n",
      "Epoch:     003 | AvgCost: 0.151\n",
      "Minibatch: 001 | Cost:    0.142\n",
      "Minibatch: 201 | Cost:    0.145\n",
      "Minibatch: 401 | Cost:    0.143\n",
      "Epoch:     004 | AvgCost: 0.143\n",
      "Minibatch: 001 | Cost:    0.146\n",
      "Minibatch: 201 | Cost:    0.145\n",
      "Minibatch: 401 | Cost:    0.136\n",
      "Epoch:     005 | AvgCost: 0.139\n"
     ]
    }
   ],
   "source": [
    "import tensorflow as tf\n",
    "from tensorflow.examples.tutorials.mnist import input_data\n",
    "\n",
    "\n",
    "##########################\n",
    "### DATASET\n",
    "##########################\n",
    "\n",
    "mnist = input_data.read_data_sets(\"./\", validation_size=0)\n",
    "\n",
    "\n",
    "##########################\n",
    "### SETTINGS\n",
    "##########################\n",
    "\n",
    "\n",
    "# Hyperparameters\n",
    "learning_rate = 0.001\n",
    "training_epochs = 5\n",
    "batch_size = 128\n",
    "\n",
    "print_interval = 200\n",
    "\n",
    "# Architecture\n",
    "hidden_size = 16\n",
    "input_size = 784\n",
    "image_width = 28\n",
    "\n",
    "\n",
    "##########################\n",
    "### GRAPH DEFINITION\n",
    "##########################\n",
    "\n",
    "g = tf.Graph()\n",
    "with g.as_default():\n",
    "\n",
    "    # Input data\n",
    "    input_layer = tf.placeholder(tf.float32, [None, input_size],\n",
    "                                 name='input')\n",
    "\n",
    "    ###########\n",
    "    # Encoder\n",
    "    ###########\n",
    "    \n",
    "    hidden_layer = tf.layers.dense(input_layer, hidden_size, \n",
    "                                   activation=tf.nn.relu, name='encoding')\n",
    "    \n",
    "    ###########\n",
    "    # Decoder\n",
    "    ###########\n",
    "    \n",
    "    logits = tf.layers.dense(hidden_layer, input_size, activation=None)\n",
    "    # note MNIST pixels are normalized to 0-1 range\n",
    "    out_layer = tf.nn.sigmoid(logits, name='decoding') \n",
    "    \n",
    "    ##################\n",
    "    # Loss & Optimizer\n",
    "    ##################\n",
    "    \n",
    "    cost = tf.reduce_mean(tf.nn.sigmoid_cross_entropy_with_logits(\n",
    "        labels=input_layer, logits=logits), name='cost')\n",
    "    \n",
    "    optimizer = tf.train.AdamOptimizer(learning_rate)\n",
    "    train = optimizer.minimize(cost, name='train')\n",
    "\n",
    "    # Saver to save session for reuse\n",
    "    saver = tf.train.Saver()\n",
    "\n",
    "##########################\n",
    "### TRAINING & EVALUATION\n",
    "##########################\n",
    "    \n",
    "with tf.Session(graph=g) as sess:\n",
    "    sess.run(tf.global_variables_initializer())\n",
    "\n",
    "    for epoch in range(training_epochs):\n",
    "        avg_cost = 0.\n",
    "        total_batch = mnist.train.num_examples // batch_size\n",
    "\n",
    "        for i in range(total_batch):\n",
    "            batch_x, batch_y = mnist.train.next_batch(batch_size)\n",
    "            _, c = sess.run(['train', 'cost:0'], \n",
    "                            feed_dict={'input:0': batch_x})\n",
    "            avg_cost += c\n",
    "            \n",
    "            if not i % print_interval:\n",
    "                print(\"Minibatch: %03d | Cost:    %.3f\" % (i + 1, c))\n",
    "    \n",
    "        print(\"Epoch:     %03d | AvgCost: %.3f\" % (epoch + 1, avg_cost / (i + 1)))\n",
    "    \n",
    "    saver.save(sess, save_path='./autoencoder.ckpt')"
   ]
  },
  {
   "cell_type": "code",
   "execution_count": 3,
   "metadata": {
    "collapsed": true
   },
   "outputs": [],
   "source": [
    "%matplotlib inline\n",
    "import matplotlib.pyplot as plt"
   ]
  },
  {
   "cell_type": "code",
   "execution_count": 4,
   "metadata": {},
   "outputs": [
    {
     "name": "stdout",
     "output_type": "stream",
     "text": [
      "INFO:tensorflow:Restoring parameters from ./autoencoder.ckpt\n"
     ]
    },
    {
     "data": {
      "image/png": "[encoded data removed]",
      "text/plain": [
       "<matplotlib.figure.Figure at 0x118f03cc0>"
      ]
     },
     "metadata": {},
     "output_type": "display_data"
    }
   ],
   "source": [
    "n_images = 15\n",
    "\n",
    "fig, axes = plt.subplots(nrows=2, ncols=n_images, \n",
    "                         sharex=True, sharey=True, figsize=(20, 2.5))\n",
    "test_images = mnist.test.images[:n_images]\n",
    "\n",
    "with tf.Session(graph=g) as sess:\n",
    "    saver.restore(sess, save_path='./autoencoder.ckpt')\n",
    "    decoded = sess.run('decoding:0', feed_dict={'input:0': test_images})\n",
    "\n",
    "for i in range(n_images):\n",
    "    for ax, img in zip(axes, [test_images, decoded]):\n",
    "        ax[i].imshow(img[i].reshape((image_width, image_width)), cmap='binary')\n"
   ]
  }
 ],
 "metadata": {
  "kernelspec": {
   "display_name": "Python 3",
   "language": "python",
   "name": "python3"
  },
  "language_info": {
   "codemirror_mode": {
    "name": "ipython",
    "version": 3
   },
   "file_extension": ".py",
   "mimetype": "text/x-python",
   "name": "python",
   "nbconvert_exporter": "python",
   "pygments_lexer": "ipython3",
   "version": "3.6.0"
  }
 },
 "nbformat": 4,
 "nbformat_minor": 2
}

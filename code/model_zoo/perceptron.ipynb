{
 "cells": [
  {
   "cell_type": "markdown",
   "metadata": {},
   "source": [
    "*Accompanying code examples of the book \"Introduction to Artificial Neural Networks and Deep Learning: A Practical Guide with Applications in Python\" by [Sebastian Raschka](https://sebastianraschka.com). All code examples are released under the [MIT license](https://github.com/rasbt/deep-learning-book/blob/master/LICENSE). If you find this content useful, please consider supporting the work by buying a [copy of the book](https://leanpub.com/ann-and-deeplearning).*\n",
    "  \n",
    "Other code examples and content are available on [GitHub](https://github.com/rasbt/deep-learning-book). The PDF and ebook versions of the book are available through [Leanpub](https://leanpub.com/ann-and-deeplearning)."
   ]
  },
  {
   "cell_type": "code",
   "execution_count": 1,
   "metadata": {},
   "outputs": [
    {
     "name": "stdout",
     "output_type": "stream",
     "text": [
      "Sebastian Raschka \n",
      "\n",
      "CPython 3.6.0\n",
      "IPython 6.0.0\n",
      "\n",
      "tensorflow 1.1.0\n"
     ]
    }
   ],
   "source": [
    "%load_ext watermark\n",
    "%watermark -a 'Sebastian Raschka' -v -p tensorflow"
   ]
  },
  {
   "cell_type": "markdown",
   "metadata": {},
   "source": [
    "# Model Zoo -- Perceptron"
   ]
  },
  {
   "cell_type": "code",
   "execution_count": 2,
   "metadata": {},
   "outputs": [
    {
     "name": "stdout",
     "output_type": "stream",
     "text": [
      "Epoch 01 | Training Error: 0.50\n",
      "Epoch 02 | Training Error: 0.50\n",
      "Epoch 03 | Training Error: 0.00\n",
      "Epoch 04 | Training Error: 0.00\n",
      "Epoch 05 | Training Error: 0.00\n",
      "\n",
      "Weights:\n",
      " [[-1.29999971]\n",
      " [-4.0999999 ]\n",
      " [ 5.19999933]\n",
      " [ 2.19999981]]\n",
      "\n",
      "Bias:\n",
      " [[-1.]]\n"
     ]
    }
   ],
   "source": [
    "import tensorflow as tf\n",
    "import numpy as np\n",
    "from io import BytesIO\n",
    "\n",
    "\n",
    "##########################\n",
    "### DATASET\n",
    "##########################\n",
    "\n",
    "ds = np.lib.DataSource()\n",
    "fp = ds.open('https://archive.ics.uci.edu/ml/machine-learning-databases/iris/iris.data')\n",
    "\n",
    "x = np.genfromtxt(BytesIO(fp.read().encode()), delimiter=',', usecols=range(4), max_rows=100)\n",
    "y = np.zeros(100)\n",
    "y[50:] = 1\n",
    "\n",
    "\n",
    "##########################\n",
    "### SETTINGS\n",
    "##########################\n",
    "\n",
    "n_features = x.shape[1]\n",
    "n_samples = x.shape[0]\n",
    "training_epochs = 5\n",
    "\n",
    "\n",
    "##########################\n",
    "### GRAPH DEFINITION\n",
    "##########################\n",
    "\n",
    "g = tf.Graph()\n",
    "with g.as_default() as g:\n",
    "\n",
    "   # initialize model parameters\n",
    "    tf_x = tf.placeholder(dtype=tf.float32,\n",
    "                          shape=[None, n_features], name='features')\n",
    "    tf_y = tf.placeholder(dtype=tf.float32,\n",
    "                          shape=[None, 1], name='targets')\n",
    "    params = {\n",
    "        'weights': tf.Variable(tf.zeros(shape=[n_features, 1],\n",
    "                                        dtype=tf.float32), name='weights'),\n",
    "        'bias': tf.Variable([[0.]], dtype=tf.float32, name='bias')}\n",
    "\n",
    "    # forward pass\n",
    "    linear = tf.matmul(tf_x, params['weights']) + params['bias']\n",
    "    ones = tf.ones(shape=tf.shape(linear))\n",
    "    zeros = tf.zeros(shape=tf.shape(linear))\n",
    "    prediction = tf.where(tf.less(linear, 0.), zeros, ones, name='predict')\n",
    "\n",
    "    # weight update\n",
    "    diff = tf_y - prediction\n",
    "\n",
    "    weight_update = tf.assign_add(params['weights'],\n",
    "                                  tf.reshape(diff * tf_x,\n",
    "                                             (n_features, 1)))\n",
    "\n",
    "    # workaround to update both weights and bias via one operation\n",
    "    with tf.control_dependencies([weight_update]):\n",
    "        train = tf.assign_add(params['bias'], diff, name='train')\n",
    "\n",
    "\n",
    "##########################\n",
    "### TRAINING & EVALUATION\n",
    "##########################\n",
    "    \n",
    "with tf.Session(graph=g) as sess:\n",
    "    sess.run(tf.global_variables_initializer())\n",
    "    \n",
    "    for epoch in range(training_epochs):\n",
    "        for xi, yi in zip(x, y):\n",
    "            feed_dict = {'features:0': xi.reshape(-1, n_features),\n",
    "                         'targets:0': yi.reshape(-1, 1)}\n",
    "            _ = sess.run('train:0', feed_dict=feed_dict)\n",
    "    \n",
    "        prediction = sess.run('predict:0', feed_dict={'features:0': x})\n",
    "        train_error = np.sum(prediction.reshape(-1) != y) / n_samples\n",
    "        print('Epoch %02d | Training Error: %.2f' % (epoch + 1, train_error))\n",
    "    \n",
    "    weights, bias = sess.run(['weights:0', 'bias:0'])\n",
    "    print('\\nWeights:\\n', weights)\n",
    "    print('\\nBias:\\n', bias)"
   ]
  }
 ],
 "metadata": {
  "kernelspec": {
   "display_name": "Python 3",
   "language": "python",
   "name": "python3"
  },
  "language_info": {
   "codemirror_mode": {
    "name": "ipython",
    "version": 3
   },
   "file_extension": ".py",
   "mimetype": "text/x-python",
   "name": "python",
   "nbconvert_exporter": "python",
   "pygments_lexer": "ipython3",
   "version": "3.6.0"
  }
 },
 "nbformat": 4,
 "nbformat_minor": 2
}
